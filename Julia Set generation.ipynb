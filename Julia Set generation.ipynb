{
 "cells": [
  {
   "cell_type": "markdown",
   "metadata": {},
   "source": [
    "I intend to use this section to become familiar with matplotlib, and producing plots with it.\n",
    "\n"
   ]
  },
  {
   "cell_type": "code",
   "execution_count": 2,
   "metadata": {
    "collapsed": true
   },
   "outputs": [],
   "source": [
    "import matplotlib.pyplot as plt\n",
    "import numpy as np\n"
   ]
  },
  {
   "cell_type": "code",
   "execution_count": 3,
   "metadata": {},
   "outputs": [
    {
     "name": "stdout",
     "output_type": "stream",
     "text": [
      "[ 0.   0.8  0.   0.1]\n",
      "[ 0.    -0.1   -0.75   0.367]\n"
     ]
    }
   ],
   "source": [
    "c = np.array([0, -0.1+0.8j, -0.75, .367+0.1j])\n",
    "             \n",
    "print(c.imag)\n",
    "print(c.real)"
   ]
  },
  {
   "cell_type": "code",
   "execution_count": 4,
   "metadata": {
    "scrolled": true
   },
   "outputs": [
    {
     "data": {
      "text/plain": [
       "array([ 0.+1.j, -1.+0.j,  1.+0.j,  1.+0.j,  1.+0.j,  1.+0.j,  1.+0.j,\n",
       "        1.+0.j,  1.+0.j,  1.+0.j,  1.+0.j])"
      ]
     },
     "execution_count": 4,
     "metadata": {},
     "output_type": "execute_result"
    }
   ],
   "source": [
    "\n",
    "def iterateQuad(z0, constant , N, display=False, maxModulus = 100):\n",
    "    z = np.zeros(N+1, dtype=complex)\n",
    "    z[0] = z0\n",
    "    for i in range(1,N+1):\n",
    "        w = z[i-1]\n",
    "        \n",
    "        modZ = np.absolute(w)\n",
    "        if(modZ > maxModulus):\n",
    "            if(display):\n",
    "                print(\"Things are getting out of control, compadre!\")\n",
    "                print(\"z is {:f}\").format(w)\n",
    "            raise ValueError(\"Unbounded orbit, terminating iteration\")\n",
    "        \n",
    "        z[i] = w.real*w.real - w.imag*w.imag + (2*w.real*w.imag)*(0+1j) + constant\n",
    "        if(display):\n",
    "            print(\"{:f}\".format(z[i]))\n",
    "            \n",
    "        \n",
    "        \n",
    "        \n",
    "    return z\n",
    "iterateQuad(0+1j,0,10)\n"
   ]
  },
  {
   "cell_type": "code",
   "execution_count": 5,
   "metadata": {},
   "outputs": [
    {
     "data": {
      "text/plain": [
       "array([0, 1, 2, 3, 4, 5, 6, 7, 8, 9])"
      ]
     },
     "execution_count": 5,
     "metadata": {},
     "output_type": "execute_result"
    }
   ],
   "source": [
    "np.arange(10)"
   ]
  },
  {
   "cell_type": "markdown",
   "metadata": {},
   "source": [
    "So now that I can generate arrays quickly, let's put it use to generate some plots."
   ]
  },
  {
   "cell_type": "code",
   "execution_count": 6,
   "metadata": {},
   "outputs": [
    {
     "data": {
      "image/png": "[encoded data removed]",
      "text/plain": [
       "<matplotlib.figure.Figure at 0x7fbd487dc128>"
      ]
     },
     "metadata": {},
     "output_type": "display_data"
    }
   ],
   "source": [
    "plt.scatter(x=np.arange(10),y=np.arange(10))\n",
    "plt.show()"
   ]
  },
  {
   "cell_type": "markdown",
   "metadata": {},
   "source": [
    "Moving on. Let's see if I can generate some fractals."
   ]
  },
  {
   "cell_type": "code",
   "execution_count": 7,
   "metadata": {},
   "outputs": [
    {
     "ename": "ValueError",
     "evalue": "Unbounded orbit, terminating iteration",
     "output_type": "error",
     "traceback": [
      "\u001b[0;31m---------------------------------------------------------------------------\u001b[0m",
      "\u001b[0;31mValueError\u001b[0m                                Traceback (most recent call last)",
      "\u001b[0;32m<ipython-input-7-db16774bf082>\u001b[0m in \u001b[0;36m<module>\u001b[0;34m()\u001b[0m\n\u001b[1;32m      1\u001b[0m \u001b[0mc_1\u001b[0m \u001b[0;34m=\u001b[0m \u001b[0;34m-\u001b[0m\u001b[0;36m0.4\u001b[0m\u001b[0;34m+\u001b[0m\u001b[0;36m0.6j\u001b[0m\u001b[0;34m\u001b[0m\u001b[0m\n\u001b[0;32m----> 2\u001b[0;31m \u001b[0moutput\u001b[0m \u001b[0;34m=\u001b[0m \u001b[0miterateQuad\u001b[0m\u001b[0;34m(\u001b[0m\u001b[0;34m-\u001b[0m\u001b[0;36m1\u001b[0m\u001b[0;34m,\u001b[0m\u001b[0;36m0.8j\u001b[0m\u001b[0;34m,\u001b[0m\u001b[0;36m150\u001b[0m\u001b[0;34m)\u001b[0m\u001b[0;34m\u001b[0m\u001b[0m\n\u001b[0m\u001b[1;32m      3\u001b[0m \u001b[0;31m#print(output)\u001b[0m\u001b[0;34m\u001b[0m\u001b[0;34m\u001b[0m\u001b[0m\n\u001b[1;32m      4\u001b[0m \u001b[0mplt\u001b[0m\u001b[0;34m.\u001b[0m\u001b[0mscatter\u001b[0m\u001b[0;34m(\u001b[0m\u001b[0moutput\u001b[0m\u001b[0;34m.\u001b[0m\u001b[0mreal\u001b[0m\u001b[0;34m,\u001b[0m \u001b[0moutput\u001b[0m\u001b[0;34m.\u001b[0m\u001b[0mimag\u001b[0m\u001b[0;34m)\u001b[0m\u001b[0;34m\u001b[0m\u001b[0m\n\u001b[1;32m      5\u001b[0m \u001b[0mplt\u001b[0m\u001b[0;34m.\u001b[0m\u001b[0mplot\u001b[0m\u001b[0;34m(\u001b[0m\u001b[0moutput\u001b[0m\u001b[0;34m.\u001b[0m\u001b[0mreal\u001b[0m\u001b[0;34m,\u001b[0m \u001b[0moutput\u001b[0m\u001b[0;34m.\u001b[0m\u001b[0mimag\u001b[0m\u001b[0;34m)\u001b[0m\u001b[0;34m\u001b[0m\u001b[0m\n",
      "\u001b[0;32m<ipython-input-4-5f8d5510805e>\u001b[0m in \u001b[0;36miterateQuad\u001b[0;34m(z0, constant, N, display, maxModulus)\u001b[0m\n\u001b[1;32m     11\u001b[0m                 \u001b[0mprint\u001b[0m\u001b[0;34m(\u001b[0m\u001b[0;34m\"Things are getting out of control, compadre!\"\u001b[0m\u001b[0;34m)\u001b[0m\u001b[0;34m\u001b[0m\u001b[0m\n\u001b[1;32m     12\u001b[0m                 \u001b[0mprint\u001b[0m\u001b[0;34m(\u001b[0m\u001b[0;34m\"z is {:f}\"\u001b[0m\u001b[0;34m)\u001b[0m\u001b[0;34m.\u001b[0m\u001b[0mformat\u001b[0m\u001b[0;34m(\u001b[0m\u001b[0mw\u001b[0m\u001b[0;34m)\u001b[0m\u001b[0;34m\u001b[0m\u001b[0m\n\u001b[0;32m---> 13\u001b[0;31m             \u001b[0;32mraise\u001b[0m \u001b[0mValueError\u001b[0m\u001b[0;34m(\u001b[0m\u001b[0;34m\"Unbounded orbit, terminating iteration\"\u001b[0m\u001b[0;34m)\u001b[0m\u001b[0;34m\u001b[0m\u001b[0m\n\u001b[0m\u001b[1;32m     14\u001b[0m \u001b[0;34m\u001b[0m\u001b[0m\n\u001b[1;32m     15\u001b[0m         \u001b[0mz\u001b[0m\u001b[0;34m[\u001b[0m\u001b[0mi\u001b[0m\u001b[0;34m]\u001b[0m \u001b[0;34m=\u001b[0m \u001b[0mw\u001b[0m\u001b[0;34m.\u001b[0m\u001b[0mreal\u001b[0m\u001b[0;34m*\u001b[0m\u001b[0mw\u001b[0m\u001b[0;34m.\u001b[0m\u001b[0mreal\u001b[0m \u001b[0;34m-\u001b[0m \u001b[0mw\u001b[0m\u001b[0;34m.\u001b[0m\u001b[0mimag\u001b[0m\u001b[0;34m*\u001b[0m\u001b[0mw\u001b[0m\u001b[0;34m.\u001b[0m\u001b[0mimag\u001b[0m \u001b[0;34m+\u001b[0m \u001b[0;34m(\u001b[0m\u001b[0;36m2\u001b[0m\u001b[0;34m*\u001b[0m\u001b[0mw\u001b[0m\u001b[0;34m.\u001b[0m\u001b[0mreal\u001b[0m\u001b[0;34m*\u001b[0m\u001b[0mw\u001b[0m\u001b[0;34m.\u001b[0m\u001b[0mimag\u001b[0m\u001b[0;34m)\u001b[0m\u001b[0;34m*\u001b[0m\u001b[0;34m(\u001b[0m\u001b[0;36m0\u001b[0m\u001b[0;34m+\u001b[0m\u001b[0;36m1j\u001b[0m\u001b[0;34m)\u001b[0m \u001b[0;34m+\u001b[0m \u001b[0mconstant\u001b[0m\u001b[0;34m\u001b[0m\u001b[0m\n",
      "\u001b[0;31mValueError\u001b[0m: Unbounded orbit, terminating iteration"
     ]
    }
   ],
   "source": [
    "c_1 = -0.4+0.6j\n",
    "output = iterateQuad(-1,0.8j,150)\n",
    "#print(output)\n",
    "plt.scatter(output.real, output.imag)\n",
    "plt.plot(output.real, output.imag)\n",
    "#plt.autoscale(tight=True)\n",
    "\n",
    "plt.show()\n"
   ]
  },
  {
   "cell_type": "markdown",
   "metadata": {},
   "source": [
    "So clearly, this is not what I'm looking for. The problem is likely the seed value for the orbit. That is to say, the critical points might not be attracting, and hence an arbitrary inital value might not drift toward the desired orbit over successive iterations. \n",
    "\n",
    "Let's try a few different seeds.\n"
   ]
  },
  {
   "cell_type": "code",
   "execution_count": 38,
   "metadata": {
    "scrolled": true
   },
   "outputs": [
    {
     "data": {
      "image/png": "[encoded data removed]",
      "text/plain": [
       "<matplotlib.figure.Figure at 0x7fbd3f2d30b8>"
      ]
     },
     "metadata": {},
     "output_type": "display_data"
    }
   ],
   "source": [
    "def makeIteratedPlot(c, seed, iterations, tightFit = False, trace = True, display = False, maxModulus = 100):\n",
    "    output = iterateQuad(seed, c, iterations, display, maxModulus=maxModulus)\n",
    "    plt.scatter(output.real, output.imag)\n",
    "    if(trace):\n",
    "        plt.plot(output.real, output.imag)\n",
    "    plt.autoscale(tight=tightFit)\n",
    "\n",
    "    \n",
    "makeIteratedPlot(c[1], 0+0.01j, 100, trace=False)\n",
    "makeIteratedPlot(c[1], 0-0.25j, 100, trace=False)\n",
    "makeIteratedPlot(c[1], 0.2-0.25j, 100, trace=False)\n",
    "makeIteratedPlot(c[1], -0.2+0.25j, 100, trace=False)\n",
    "plt.show()"
   ]
  },
  {
   "cell_type": "code",
   "execution_count": 42,
   "metadata": {},
   "outputs": [
    {
     "data": {
      "image/png": "[encoded data removed]",
      "text/plain": [
       "<matplotlib.figure.Figure at 0x7fbd3c07e940>"
      ]
     },
     "metadata": {},
     "output_type": "display_data"
    }
   ],
   "source": [
    "for x in np.linspace(-0.75,0.75,75):\n",
    "    for y in np.linspace(0.5,0.5,75):\n",
    "        seed = x + (y)*(1j)\n",
    "        try:\n",
    "            makeIteratedPlot(c[2],seed,50,trace=False) \n",
    "        except ValueError:\n",
    "            pass\n",
    "plt.axis()\n",
    "plt.show()"
   ]
  },
  {
   "cell_type": "markdown",
   "metadata": {},
   "source": [
    "NOW we're talking. Alright, we're starting to get some interesting personalities being shown in our plots. \n",
    "\n",
    "The Julia set is NOT the orbit produced by a given seed value. The Julia set, for a given function, is the set of all seed values that will produce a BOUNDED orbit. I'm going to write a new function to accomplish the task of plotting the Julia Set"
   ]
  },
  {
   "cell_type": "code",
   "execution_count": 24,
   "metadata": {},
   "outputs": [
    {
     "data": {
      "text/plain": [
       "0j"
      ]
     },
     "execution_count": 24,
     "metadata": {},
     "output_type": "execute_result"
    }
   ],
   "source": [
    "square = lambda x: x*x\n",
    "square(-0.5j + 0.5j)"
   ]
  },
  {
   "cell_type": "code",
   "execution_count": 56,
   "metadata": {
    "scrolled": false
   },
   "outputs": [
    {
     "data": {
      "image/png": "[encoded data removed]",
      "text/plain": [
       "<matplotlib.figure.Figure at 0x7fbd43d11438>"
      ]
     },
     "metadata": {},
     "output_type": "display_data"
    }
   ],
   "source": [
    "def juliaSet(f, xmin=-0.5, xmax=0.5, ymin=-0.5, ymax=0.5, latticeSide=50, maxModulus=1, maxIteration=25, display=True):\n",
    "    u = np.linspace(xmin, xmax, latticeSide)\n",
    "    v = np.linspace(ymin, ymax, latticeSide)\n",
    "    (uu, vv) = np.meshgrid(u, v, sparse=True)\n",
    "    grid = np.concatenate(uu + (1j)*vv)\n",
    "    epsilon = 1e-1\n",
    "    seeds = []\n",
    "    if display:\n",
    "        print(\"u: {0}\".format(u))\n",
    "        print(\"v: {0}\".format(v))\n",
    "        print(\"uu: {0}\".format(uu))\n",
    "        print(\"vv: {0}\".format(vv))\n",
    "        print(\"grid: {0}\".format(grid))\n",
    "    for z0 in grid:\n",
    "            z = f(z0)\n",
    "            k = 1\n",
    "            if display:\n",
    "                print(\"Re z:{0}, Im z:{1}\".format(np.real(z0), np.imag(z0)))\n",
    "                print(\"z0:{0}\".format(z0))\n",
    "            while k < maxIteration and np.abs(z) < maxModulus:\n",
    "                if display:\n",
    "                    print(\"Re z:{0}, Im z:{1}\".format(np.real(z), np.imag(z)))\n",
    "                if np.abs(z-f(z)) < epsilon: \n",
    "                    seeds.append(z0)\n",
    "                    break\n",
    "                else:\n",
    "                    z = f(z)\n",
    "                k = k + 1\n",
    "    return seeds\n",
    "unitParabola = juliaSet(lambda x: x*x - 0.75, display=False)\n",
    "#print(unitParabola)\n",
    "plt.scatter(np.real(unitParabola), np.imag(unitParabola))\n",
    "plt.show()"
   ]
  }
 ],
 "metadata": {
  "kernelspec": {
   "display_name": "Python 3",
   "language": "python",
   "name": "python3"
  },
  "language_info": {
   "codemirror_mode": {
    "name": "ipython",
    "version": 3
   },
   "file_extension": ".py",
   "mimetype": "text/x-python",
   "name": "python",
   "nbconvert_exporter": "python",
   "pygments_lexer": "ipython3",
   "version": "3.6.0"
  }
 },
 "nbformat": 4,
 "nbformat_minor": 2
}
