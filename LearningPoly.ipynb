{
 "cells": [
  {
   "cell_type": "markdown",
   "metadata": {},
   "source": [
    "# What the heck am I doing here: an Overview\n",
    "\n",
    "The first thing a new reader should do is to review the PDF in the attached git repository.\n",
    "\n",
    "There are three interesting components to this paper. I've included a quote below\n",
    "\n",
    "\"First we show that for a randomly\n",
    "initialized neural network with sufficiently many\n",
    "hidden units, the generic gradient descent algo-\n",
    "rithm learns any low degree polynomial, assum-\n",
    "ing we initialize the weights randomly. Secondly,\n",
    "we show that if we use complex-valued weights\n",
    "(the target function can still be real), then un-\n",
    "der suitable conditions, there are no “robust lo-\n",
    "cal minima”: the neural network can always es-\n",
    "cape a local minimum by performing a random\n",
    "perturbation. This property does not hold for\n",
    "real-valued weights. Thirdly, we discuss whether\n",
    "sparse polynomials can be learned with small\n",
    "neural networks, with the size dependent on the\n",
    "sparsity of the target function.\" - Learning Polynomials with Neural Networks\n",
    "\n",
    "The goal of the paper was to present some evidence supporting the effectiveness of neural networks, and I wish to further supplement that evidence by investigating some of their claims in this notebook.\n",
    "\n",
    "## Result 1\n",
    "\n",
    "We wish to investigate if, \"for a randomly initialized neural network with sufficiently many hidden units, the generic gradient descent algorithm learns any low degree polynomial, assuming we initialize the weights randomly.\"\n",
    "\n",
    "The most trivial polynomial is the constant zero. However, trying to verify that a neural network can duplicate this result is like trying to use a flamethrower to light a birthday candle.\n",
    "\n",
    "Recall the universal approximation theorem: \n",
    "https://en.wikipedia.org/wiki/Universal_approximation_theorem\n",
    "\n",
    "If the function we wish to model is constant, I think it follows trivially from this that a neural network is sufficiently powerful. Specifically, setting all the weights and biases to zero, and using any typical, sigmoidal, activation function should do the trick.\n",
    "\n",
    "Let's use a slightly less trivial example.\n",
    "\n",
    "f_1(x) = 2x+1\n",
    "\n"
   ]
  },
  {
   "cell_type": "code",
   "execution_count": 29,
   "metadata": {},
   "outputs": [],
   "source": [
    "import numpy as np\n",
    "import matplotlib.pyplot as plot\n",
    "from keras.models import Sequential\n",
    "from keras.layers import Dense\n",
    "from keras.utils import np_utils\n",
    "from keras import optimizers\n",
    "from keras import losses\n",
    "from keras.utils.vis_utils import plot_model\n",
    "from IPython.display import Image"
   ]
  },
  {
   "cell_type": "code",
   "execution_count": 2,
   "metadata": {},
   "outputs": [
    {
     "data": {
      "image/png": "[encoded data removed]",
      "text/plain": [
       "<matplotlib.figure.Figure at 0x7fae00e5ff60>"
      ]
     },
     "metadata": {},
     "output_type": "display_data"
    }
   ],
   "source": [
    "f1 = lambda x: 2*x + 1\n",
    "xmin = -10\n",
    "xmax = 10\n",
    "trainSize = 1000\n",
    "testSize = 10\n",
    "\n",
    "def generateSets(f):\n",
    "    xTrain = np.linspace(xmin,xmax,trainSize)\n",
    "    yTrain = f(xTrain)\n",
    "    xTest = np.random.uniform(xmin, xmax, testSize)\n",
    "    yTest = f(xTest)\n",
    "    return [[xTrain, yTrain], [xTest, yTest]]\n",
    "\n",
    "[[x1, y1], [x2, y2]] = generateSets(f1)\n",
    "plot.scatter(x1,y1)\n",
    "plot.scatter(x2,y2)\n",
    "plot.show()"
   ]
  },
  {
   "cell_type": "code",
   "execution_count": 3,
   "metadata": {
    "scrolled": true
   },
   "outputs": [
    {
     "data": {
      "image/png": "[encoded data removed]",
      "text/plain": [
       "<matplotlib.figure.Figure at 0x7fae0c671550>"
      ]
     },
     "metadata": {},
     "output_type": "display_data"
    }
   ],
   "source": [
    "plot.clf()\n",
    "plot.hist(x1)\n",
    "plot.show()"
   ]
  },
  {
   "cell_type": "code",
   "execution_count": 42,
   "metadata": {},
   "outputs": [
    {
     "name": "stdout",
     "output_type": "stream",
     "text": [
      "Epoch 1/10\n",
      "1000/1000 [==============================] - 0s - loss: 134.6003     \n",
      "Epoch 2/10\n",
      "1000/1000 [==============================] - 0s - loss: 134.6003     \n",
      "Epoch 3/10\n",
      "1000/1000 [==============================] - 0s - loss: 134.6003     \n",
      "Epoch 4/10\n",
      "1000/1000 [==============================] - 0s - loss: 134.6003     \n",
      "Epoch 5/10\n",
      "1000/1000 [==============================] - 0s - loss: 134.6003     \n",
      "Epoch 6/10\n",
      "1000/1000 [==============================] - 0s - loss: 134.6003     \n",
      "Epoch 7/10\n",
      "1000/1000 [==============================] - 0s - loss: 134.6003     \n",
      "Epoch 8/10\n",
      "1000/1000 [==============================] - 0s - loss: 134.6003     \n",
      "Epoch 9/10\n",
      "1000/1000 [==============================] - 0s - loss: 134.6003     \n",
      "Epoch 10/10\n",
      "1000/1000 [==============================] - 0s - loss: 134.6003     \n"
     ]
    },
    {
     "data": {
      "text/plain": [
       "<keras.callbacks.History at 0x7fadfc0c7c88>"
      ]
     },
     "execution_count": 42,
     "metadata": {},
     "output_type": "execute_result"
    }
   ],
   "source": [
    "plot.clf()\n",
    "model = Sequential()\n",
    "model.add(Dense(1,input_shape= (1,), kernel_initializer='random_uniform' ,use_bias=False))\n",
    "model.add(Dense(2,kernel_initializer='random_uniform', use_bias=False))\n",
    "model.add(Dense(2,kernel_initializer='random_uniform', use_bias=False))\n",
    "model.add(Dense(2,kernel_initializer='random_uniform', use_bias=False))\n",
    "model.add(Dense(2,kernel_initializer='random_uniform', use_bias=False))\n",
    "model.add(Dense(2,kernel_initializer='random_uniform', use_bias=False))\n",
    "model.add(Dense(2,kernel_initializer='random_uniform', use_bias=False))\n",
    "model.add(Dense(1,kernel_initializer='random_uniform', use_bias=False))\n",
    "model.compile(optimizer=optimizers.adagrad(), loss=losses.mean_squared_error)\n",
    "model.fit(x1,y1)\n",
    "\n",
    "# plot_model(model)"
   ]
  },
  {
   "cell_type": "code",
   "execution_count": 30,
   "metadata": {},
   "outputs": [
    {
     "data": {
      "image/png": "[encoded data removed]",
      "text/plain": [
       "<IPython.core.display.Image object>"
      ]
     },
     "execution_count": 30,
     "metadata": {},
     "output_type": "execute_result"
    }
   ],
   "source": [
    "file1 = 'model1.png'\n",
    "plot_model(model, to_file=file1)\n",
    "Image(file1)"
   ]
  },
  {
   "cell_type": "code",
   "execution_count": 6,
   "metadata": {},
   "outputs": [
    {
     "name": "stdout",
     "output_type": "stream",
     "text": [
      "10/10 [==============================] - 0s\n",
      "0.993327438831\n"
     ]
    }
   ],
   "source": [
    "score = model.evaluate(x2,y2)\n",
    "print(score)"
   ]
  },
  {
   "cell_type": "markdown",
   "metadata": {},
   "source": [
    "Let's try another model"
   ]
  },
  {
   "cell_type": "code",
   "execution_count": 40,
   "metadata": {},
   "outputs": [
    {
     "name": "stdout",
     "output_type": "stream",
     "text": [
      "Epoch 1/10\n",
      "1000/1000 [==============================] - 0s - loss: 133.3099     \n",
      "Epoch 2/10\n",
      "1000/1000 [==============================] - 0s - loss: 130.3362     \n",
      "Epoch 3/10\n",
      "1000/1000 [==============================] - 0s - loss: 127.2490     \n",
      "Epoch 4/10\n",
      "1000/1000 [==============================] - 0s - loss: 124.1855     \n",
      "Epoch 5/10\n",
      "1000/1000 [==============================] - 0s - loss: 121.1392     \n",
      "Epoch 6/10\n",
      "1000/1000 [==============================] - 0s - loss: 118.1126     \n",
      "Epoch 7/10\n",
      "1000/1000 [==============================] - 0s - loss: 115.1531     \n",
      "Epoch 8/10\n",
      "1000/1000 [==============================] - 0s - loss: 112.2825     \n",
      "Epoch 9/10\n",
      "1000/1000 [==============================] - 0s - loss: 109.4215     \n",
      "Epoch 10/10\n",
      "1000/1000 [==============================] - 0s - loss: 106.6407     \n",
      "10/10 [==============================] - 0s\n",
      "167388.671875\n"
     ]
    }
   ],
   "source": [
    "model2 = Sequential()\n",
    "model2.add(Dense(1, input_shape=(1,), kernel_initializer='random_uniform', use_bias=False))\n",
    "model2.add(Dense(1, input_shape=(2,), kernel_initializer='random_uniform', use_bias=False))\n",
    "model2.compile(optimizer=optimizers.adagrad(), loss=losses.mean_squared_error)\n",
    "model2.fit(x1,y1)\n",
    "score2 = model.evaluate(x2,y2)\n",
    "print(score2)"
   ]
  },
  {
   "cell_type": "code",
   "execution_count": 38,
   "metadata": {},
   "outputs": [
    {
     "data": {
      "image/png": "[encoded data removed]",
      "text/plain": [
       "<IPython.core.display.Image object>"
      ]
     },
     "execution_count": 38,
     "metadata": {},
     "output_type": "execute_result"
    }
   ],
   "source": [
    "file2 = 'model2.png'\n",
    "plot_model(model2, to_file=file2)\n",
    "Image(file2)"
   ]
  },
  {
   "cell_type": "markdown",
   "metadata": {},
   "source": [
    "Let's see how these models handle a cubic function"
   ]
  },
  {
   "cell_type": "code",
   "execution_count": 8,
   "metadata": {},
   "outputs": [
    {
     "data": {
      "image/png": "[encoded data removed]",
      "text/plain": [
       "<matplotlib.figure.Figure at 0x7fadfe6c3978>"
      ]
     },
     "metadata": {},
     "output_type": "display_data"
    }
   ],
   "source": [
    "f2 = lambda x: x**3\n",
    "[[xTrain, yTrain], [xTest, yTest]] = generateSets(f2)\n",
    "plot.clf()\n",
    "plot.scatter(xTest,yTest)\n",
    "plot.show()"
   ]
  },
  {
   "cell_type": "code",
   "execution_count": 12,
   "metadata": {},
   "outputs": [
    {
     "name": "stdout",
     "output_type": "stream",
     "text": [
      "Epoch 1/10\n",
      "1000/1000 [==============================] - 0s - loss: 23014.8684     \n",
      "Epoch 2/10\n",
      "1000/1000 [==============================] - 0s - loss: 23021.3834     \n",
      "Epoch 3/10\n",
      "1000/1000 [==============================] - 0s - loss: 23021.8060     \n",
      "Epoch 4/10\n",
      "1000/1000 [==============================] - 0s - loss: 23020.5560     \n",
      "Epoch 5/10\n",
      "1000/1000 [==============================] - 0s - loss: 23013.7612     \n",
      "Epoch 6/10\n",
      "1000/1000 [==============================] - 0s - loss: 23015.6059     \n",
      "Epoch 7/10\n",
      "1000/1000 [==============================] - 0s - loss: 23011.8344     \n",
      "Epoch 8/10\n",
      "1000/1000 [==============================] - 0s - loss: 23009.1968     \n",
      "Epoch 9/10\n",
      "1000/1000 [==============================] - 0s - loss: 23021.9741     \n",
      "Epoch 10/10\n",
      "1000/1000 [==============================] - 0s - loss: 23018.7504     \n"
     ]
    },
    {
     "data": {
      "text/plain": [
       "<keras.callbacks.History at 0x7fadfd203320>"
      ]
     },
     "execution_count": 12,
     "metadata": {},
     "output_type": "execute_result"
    }
   ],
   "source": [
    "model.reset_states()\n",
    "model.fit(xTrain, yTrain)"
   ]
  },
  {
   "cell_type": "code",
   "execution_count": 13,
   "metadata": {
    "scrolled": true
   },
   "outputs": [
    {
     "name": "stdout",
     "output_type": "stream",
     "text": [
      "10/10 [==============================] - 0s\n",
      "19215.6816406\n"
     ]
    }
   ],
   "source": [
    "model1ScoreCubic = model.evaluate(xTest, yTest)\n",
    "print(model1ScoreCubic)"
   ]
  },
  {
   "cell_type": "code",
   "execution_count": 20,
   "metadata": {},
   "outputs": [
    {
     "name": "stdout",
     "output_type": "stream",
     "text": [
      "Epoch 1/10\n",
      "1000/1000 [==============================] - 0s - loss: 142553.1616     \n",
      "Epoch 2/10\n",
      "1000/1000 [==============================] - 0s - loss: 142264.2162     \n",
      "Epoch 3/10\n",
      "1000/1000 [==============================] - 0s - loss: 142046.1171     \n",
      "Epoch 4/10\n",
      "1000/1000 [==============================] - 0s - loss: 141858.9625     \n",
      "Epoch 5/10\n",
      "1000/1000 [==============================] - 0s - loss: 141687.3621     \n",
      "Epoch 6/10\n",
      "1000/1000 [==============================] - 0s - loss: 141528.5161     \n",
      "Epoch 7/10\n",
      "1000/1000 [==============================] - 0s - loss: 141375.8455     \n",
      "Epoch 8/10\n",
      "1000/1000 [==============================] - 0s - loss: 141228.7893     \n",
      "Epoch 9/10\n",
      "1000/1000 [==============================] - 0s - loss: 141085.1204     \n",
      "Epoch 10/10\n",
      "1000/1000 [==============================] - 0s - loss: 140944.9020     \n"
     ]
    },
    {
     "data": {
      "text/plain": [
       "<keras.callbacks.History at 0x7fadfd31de80>"
      ]
     },
     "execution_count": 20,
     "metadata": {},
     "output_type": "execute_result"
    }
   ],
   "source": [
    "model2.reset_states()\n",
    "model2.fit(xTrain, yTrain)"
   ]
  },
  {
   "cell_type": "code",
   "execution_count": 21,
   "metadata": {},
   "outputs": [
    {
     "name": "stdout",
     "output_type": "stream",
     "text": [
      "10/10 [==============================] - 0s\n",
      "19215.6816406\n"
     ]
    }
   ],
   "source": [
    "model2ScoreCubic = model.evaluate(xTest, yTest)\n",
    "print(model2ScoreCubic)"
   ]
  },
  {
   "cell_type": "markdown",
   "metadata": {},
   "source": [
    "# The story so far\n",
    "\n",
    "Model1 is complex but has a great accuracy. Model2 is simpler with worse accuracy. However, the dilemma is this:\n",
    "neither are the model that is described in the paper.\n",
    "Let's proceed by using the specifically defined model from the paper, specifically in Theorem 4.2:"
   ]
  },
  {
   "cell_type": "code",
   "execution_count": 49,
   "metadata": {},
   "outputs": [
    {
     "ename": "ValueError",
     "evalue": "Error when checking model target: expected lambda_2 to have shape (None, 2) but got array with shape (1000, 1)",
     "output_type": "error",
     "traceback": [
      "\u001b[0;31m---------------------------------------------------------------------------\u001b[0m",
      "\u001b[0;31mValueError\u001b[0m                                Traceback (most recent call last)",
      "\u001b[0;32m<ipython-input-49-252de6101fa7>\u001b[0m in \u001b[0;36m<module>\u001b[0;34m()\u001b[0m\n\u001b[1;32m     14\u001b[0m \u001b[0;34m\u001b[0m\u001b[0m\n\u001b[1;32m     15\u001b[0m \u001b[0mtestingModel\u001b[0m \u001b[0;34m=\u001b[0m \u001b[0mgetModel\u001b[0m\u001b[0;34m(\u001b[0m\u001b[0;36m3\u001b[0m\u001b[0;34m)\u001b[0m\u001b[0;34m\u001b[0m\u001b[0m\n\u001b[0;32m---> 16\u001b[0;31m \u001b[0mtestingModel\u001b[0m\u001b[0;34m.\u001b[0m\u001b[0mfit\u001b[0m\u001b[0;34m(\u001b[0m\u001b[0mx1\u001b[0m\u001b[0;34m,\u001b[0m\u001b[0my1\u001b[0m\u001b[0;34m)\u001b[0m\u001b[0;34m\u001b[0m\u001b[0m\n\u001b[0m\u001b[1;32m     17\u001b[0m \u001b[0mtestingModelScore\u001b[0m \u001b[0;34m=\u001b[0m \u001b[0mtestingModel\u001b[0m\u001b[0;34m.\u001b[0m\u001b[0mevaluate\u001b[0m\u001b[0;34m(\u001b[0m\u001b[0mx2\u001b[0m\u001b[0;34m,\u001b[0m\u001b[0my2\u001b[0m\u001b[0;34m)\u001b[0m\u001b[0;34m\u001b[0m\u001b[0m\n\u001b[1;32m     18\u001b[0m \u001b[0mprint\u001b[0m\u001b[0;34m(\u001b[0m\u001b[0mtestingModelScore\u001b[0m\u001b[0;34m)\u001b[0m\u001b[0;34m\u001b[0m\u001b[0m\n",
      "\u001b[0;32m/home/aarurane/miniconda3/lib/python3.6/site-packages/keras/models.py\u001b[0m in \u001b[0;36mfit\u001b[0;34m(self, x, y, batch_size, epochs, verbose, callbacks, validation_split, validation_data, shuffle, class_weight, sample_weight, initial_epoch, **kwargs)\u001b[0m\n\u001b[1;32m    851\u001b[0m                               \u001b[0mclass_weight\u001b[0m\u001b[0;34m=\u001b[0m\u001b[0mclass_weight\u001b[0m\u001b[0;34m,\u001b[0m\u001b[0;34m\u001b[0m\u001b[0m\n\u001b[1;32m    852\u001b[0m                               \u001b[0msample_weight\u001b[0m\u001b[0;34m=\u001b[0m\u001b[0msample_weight\u001b[0m\u001b[0;34m,\u001b[0m\u001b[0;34m\u001b[0m\u001b[0m\n\u001b[0;32m--> 853\u001b[0;31m                               initial_epoch=initial_epoch)\n\u001b[0m\u001b[1;32m    854\u001b[0m \u001b[0;34m\u001b[0m\u001b[0m\n\u001b[1;32m    855\u001b[0m     def evaluate(self, x, y, batch_size=32, verbose=1,\n",
      "\u001b[0;32m/home/aarurane/miniconda3/lib/python3.6/site-packages/keras/engine/training.py\u001b[0m in \u001b[0;36mfit\u001b[0;34m(self, x, y, batch_size, epochs, verbose, callbacks, validation_split, validation_data, shuffle, class_weight, sample_weight, initial_epoch, **kwargs)\u001b[0m\n\u001b[1;32m   1404\u001b[0m             \u001b[0mclass_weight\u001b[0m\u001b[0;34m=\u001b[0m\u001b[0mclass_weight\u001b[0m\u001b[0;34m,\u001b[0m\u001b[0;34m\u001b[0m\u001b[0m\n\u001b[1;32m   1405\u001b[0m             \u001b[0mcheck_batch_axis\u001b[0m\u001b[0;34m=\u001b[0m\u001b[0;32mFalse\u001b[0m\u001b[0;34m,\u001b[0m\u001b[0;34m\u001b[0m\u001b[0m\n\u001b[0;32m-> 1406\u001b[0;31m             batch_size=batch_size)\n\u001b[0m\u001b[1;32m   1407\u001b[0m         \u001b[0;31m# prepare validation data\u001b[0m\u001b[0;34m\u001b[0m\u001b[0;34m\u001b[0m\u001b[0m\n\u001b[1;32m   1408\u001b[0m         \u001b[0;32mif\u001b[0m \u001b[0mvalidation_data\u001b[0m\u001b[0;34m:\u001b[0m\u001b[0;34m\u001b[0m\u001b[0m\n",
      "\u001b[0;32m/home/aarurane/miniconda3/lib/python3.6/site-packages/keras/engine/training.py\u001b[0m in \u001b[0;36m_standardize_user_data\u001b[0;34m(self, x, y, sample_weight, class_weight, check_batch_axis, batch_size)\u001b[0m\n\u001b[1;32m   1298\u001b[0m                                     \u001b[0moutput_shapes\u001b[0m\u001b[0;34m,\u001b[0m\u001b[0;34m\u001b[0m\u001b[0m\n\u001b[1;32m   1299\u001b[0m                                     \u001b[0mcheck_batch_axis\u001b[0m\u001b[0;34m=\u001b[0m\u001b[0;32mFalse\u001b[0m\u001b[0;34m,\u001b[0m\u001b[0;34m\u001b[0m\u001b[0m\n\u001b[0;32m-> 1300\u001b[0;31m                                     exception_prefix='model target')\n\u001b[0m\u001b[1;32m   1301\u001b[0m         sample_weights = _standardize_sample_weights(sample_weight,\n\u001b[1;32m   1302\u001b[0m                                                      self._feed_output_names)\n",
      "\u001b[0;32m/home/aarurane/miniconda3/lib/python3.6/site-packages/keras/engine/training.py\u001b[0m in \u001b[0;36m_standardize_input_data\u001b[0;34m(data, names, shapes, check_batch_axis, exception_prefix)\u001b[0m\n\u001b[1;32m    131\u001b[0m                             \u001b[0;34m' to have shape '\u001b[0m \u001b[0;34m+\u001b[0m \u001b[0mstr\u001b[0m\u001b[0;34m(\u001b[0m\u001b[0mshapes\u001b[0m\u001b[0;34m[\u001b[0m\u001b[0mi\u001b[0m\u001b[0;34m]\u001b[0m\u001b[0;34m)\u001b[0m \u001b[0;34m+\u001b[0m\u001b[0;34m\u001b[0m\u001b[0m\n\u001b[1;32m    132\u001b[0m                             \u001b[0;34m' but got array with shape '\u001b[0m \u001b[0;34m+\u001b[0m\u001b[0;34m\u001b[0m\u001b[0m\n\u001b[0;32m--> 133\u001b[0;31m                             str(array.shape))\n\u001b[0m\u001b[1;32m    134\u001b[0m     \u001b[0;32mreturn\u001b[0m \u001b[0marrays\u001b[0m\u001b[0;34m\u001b[0m\u001b[0m\n\u001b[1;32m    135\u001b[0m \u001b[0;34m\u001b[0m\u001b[0m\n",
      "\u001b[0;31mValueError\u001b[0m: Error when checking model target: expected lambda_2 to have shape (None, 2) but got array with shape (1000, 1)"
     ]
    }
   ],
   "source": [
    "import keras.layers.core\n",
    "def getModel(layers):\n",
    "    '''Defines a sequential neural network with the specified number of layers,\n",
    "    using randomly initialized weights and an exponential activation function'''\n",
    "    model = Sequential()\n",
    "    model.add(Dense(1, input_shape=(1,), kernel_initializer='zeros', use_bias=False))\n",
    "    for i in range(1,layers):\n",
    "        model.add(Dense(2, kernel_initializer='zeros'))\n",
    "        model.add(keras.layers.core.Lambda(lambda x: np.e**x))\n",
    "    m = model.count_params()\n",
    "    gradientDescent = optimizers.SGD(lr=1/(4*m), )\n",
    "    model.compile(optimizer=gradientDescent, loss=losses.mean_squared_error)\n",
    "    return model\n",
    "\n",
    "testingModel = getModel(3)\n",
    "testingModel.fit(x1,y1)\n",
    "testingModelScore = testingModel.evaluate(x2,y2)\n",
    "print(testingModelScore)"
   ]
  }
 ],
 "metadata": {
  "kernelspec": {
   "display_name": "Python 3",
   "language": "python",
   "name": "python3"
  },
  "language_info": {
   "codemirror_mode": {
    "name": "ipython",
    "version": 3
   },
   "file_extension": ".py",
   "mimetype": "text/x-python",
   "name": "python",
   "nbconvert_exporter": "python",
   "pygments_lexer": "ipython3",
   "version": "3.6.0"
  }
 },
 "nbformat": 4,
 "nbformat_minor": 2
}
