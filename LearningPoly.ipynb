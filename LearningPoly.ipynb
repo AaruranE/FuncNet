{
 "cells": [
  {
   "cell_type": "markdown",
   "metadata": {},
   "source": [
    "# What the heck am I doing here: an Overview\n",
    "\n",
    "The first thing a new reader should do is to review the PDF in the attached git repository.\n",
    "\n",
    "There are three interesting components to this paper. I've included a quote below\n",
    "\n",
    "\"First we show that for a randomly\n",
    "initialized neural network with sufficiently many\n",
    "hidden units, the generic gradient descent algo-\n",
    "rithm learns any low degree polynomial, assum-\n",
    "ing we initialize the weights randomly. Secondly,\n",
    "we show that if we use complex-valued weights\n",
    "(the target function can still be real), then un-\n",
    "der suitable conditions, there are no “robust lo-\n",
    "cal minima”: the neural network can always es-\n",
    "cape a local minimum by performing a random\n",
    "perturbation. This property does not hold for\n",
    "real-valued weights. Thirdly, we discuss whether\n",
    "sparse polynomials can be learned with small\n",
    "neural networks, with the size dependent on the\n",
    "sparsity of the target function.\" - Learning Polynomials with Neural Networks\n",
    "\n",
    "The goal of the paper was to present some evidence supporting the effectiveness of neural networks, and I wish to further supplement that evidence by investigating some of their claims in this notebook.\n",
    "\n",
    "## Result 1\n",
    "\n",
    "We wish to investigate if, \"for a randomly initialized neural network with sufficiently many hidden units, the generic gradient descent algorithm learns any low degree polynomial, assuming we initialize the weights randomly.\"\n",
    "\n",
    "The most trivial polynomial is the constant zero. However, trying to verify that a neural network can duplicate this result is like trying to use a flamethrower to light a birthday candle.\n",
    "\n",
    "Recall the universal approximation theorem: \n",
    "https://en.wikipedia.org/wiki/Universal_approximation_theorem\n",
    "\n",
    "If the function we wish to model is constant, I think it follows trivially from this that a neural network is sufficiently powerful. Specifically, setting all the weights and biases to zero, and using any typical, sigmoidal, activation function should do the trick.\n",
    "\n",
    "Let's use a slightly less trivial example.\n",
    "\n",
    "f_1(x) = 2x+1\n",
    "\n"
   ]
  },
  {
   "cell_type": "code",
   "execution_count": 1,
   "metadata": {},
   "outputs": [
    {
     "name": "stderr",
     "output_type": "stream",
     "text": [
      "Using TensorFlow backend.\n"
     ]
    }
   ],
   "source": [
    "import numpy as np\n",
    "import matplotlib.pyplot as plot\n",
    "from keras.models import Sequential\n",
    "from keras.layers import Dense\n",
    "from keras.utils import np_utils\n",
    "from keras import optimizers\n",
    "from keras import losses\n",
    "from keras.utils.vis_utils import plot_model\n",
    "from IPython.display import Image"
   ]
  },
  {
   "cell_type": "code",
   "execution_count": 2,
   "metadata": {
    "scrolled": true
   },
   "outputs": [
    {
     "data": {
      "image/png": "[encoded data removed]",
      "text/plain": [
       "<matplotlib.figure.Figure at 0x7f44beefb0b8>"
      ]
     },
     "metadata": {},
     "output_type": "display_data"
    }
   ],
   "source": [
    "f1 = lambda x: 2*x + 1\n",
    "xmin = -10\n",
    "xmax = 10\n",
    "trainSize = 1000\n",
    "testSize = 10\n",
    "\n",
    "def generateSets(f):\n",
    "    xTrain = np.linspace(xmin,xmax,trainSize)\n",
    "    yTrain = f(xTrain)\n",
    "    xTest = np.random.uniform(xmin, xmax, testSize)\n",
    "    yTest = f(xTest)\n",
    "    return [[xTrain, yTrain], [xTest, yTest]]\n",
    "\n",
    "[[x1, y1], [x2, y2]] = generateSets(f1)\n",
    "plot.scatter(x1,y1)\n",
    "plot.scatter(x2,y2)\n",
    "plot.show()"
   ]
  },
  {
   "cell_type": "code",
   "execution_count": 3,
   "metadata": {
    "scrolled": false
   },
   "outputs": [
    {
     "data": {
      "image/png": "[encoded data removed]",
      "text/plain": [
       "<matplotlib.figure.Figure at 0x7f44beed5f98>"
      ]
     },
     "metadata": {},
     "output_type": "display_data"
    }
   ],
   "source": [
    "plot.clf()\n",
    "plot.hist(x1)\n",
    "plot.show()"
   ]
  },
  {
   "cell_type": "code",
   "execution_count": 4,
   "metadata": {
    "scrolled": true
   },
   "outputs": [
    {
     "name": "stdout",
     "output_type": "stream",
     "text": [
      "Epoch 1/10\n",
      "1000/1000 [==============================] - 0s - loss: 5.0875     \n",
      "Epoch 2/10\n",
      "1000/1000 [==============================] - 0s - loss: 0.1680     \n",
      "Epoch 3/10\n",
      "1000/1000 [==============================] - 0s - loss: 0.0456     \n",
      "Epoch 4/10\n",
      "1000/1000 [==============================] - 0s - loss: 0.0123     \n",
      "Epoch 5/10\n",
      "1000/1000 [==============================] - 0s - loss: 0.0034     \n",
      "Epoch 6/10\n",
      "1000/1000 [==============================] - 0s - loss: 9.2649e-04     \n",
      "Epoch 7/10\n",
      "1000/1000 [==============================] - 0s - loss: 2.4760e-04     \n",
      "Epoch 8/10\n",
      "1000/1000 [==============================] - 0s - loss: 6.9747e-05     \n",
      "Epoch 9/10\n",
      "1000/1000 [==============================] - 0s - loss: 1.9587e-05     \n",
      "Epoch 10/10\n",
      "1000/1000 [==============================] - 0s - loss: 5.1292e-06     \n"
     ]
    },
    {
     "data": {
      "text/plain": [
       "<keras.callbacks.History at 0x7f44bc56bd30>"
      ]
     },
     "execution_count": 4,
     "metadata": {},
     "output_type": "execute_result"
    }
   ],
   "source": [
    "model0 = Sequential()\n",
    "model0.add(Dense(1,input_shape=(1,), kernel_initializer='random_uniform', use_bias=True))\n",
    "model0.compile(optimizer=optimizers.SGD(), loss=losses.mean_squared_error)\n",
    "model0.fit(x1,y1)"
   ]
  },
  {
   "cell_type": "markdown",
   "metadata": {},
   "source": [
    "As the above model0 shows, stochastic gradient descent can, indeed, learn a linear function when acting upon a peceptron. We proceed."
   ]
  },
  {
   "cell_type": "code",
   "execution_count": 5,
   "metadata": {},
   "outputs": [
    {
     "name": "stdout",
     "output_type": "stream",
     "text": [
      "Epoch 1/10\n",
      "1000/1000 [==============================] - 0s - loss: 134.5771     \n",
      "Epoch 2/10\n",
      "1000/1000 [==============================] - 0s - loss: 134.5014     \n",
      "Epoch 3/10\n",
      "1000/1000 [==============================] - 0s - loss: 134.1703     \n",
      "Epoch 4/10\n",
      "1000/1000 [==============================] - 0s - loss: 129.1448     \n",
      "Epoch 5/10\n",
      "1000/1000 [==============================] - 0s - loss: 104.2181     \n",
      "Epoch 6/10\n",
      "1000/1000 [==============================] - 0s - loss: 53.1773     \n",
      "Epoch 7/10\n",
      "1000/1000 [==============================] - 0s - loss: 11.4461     \n",
      "Epoch 8/10\n",
      "1000/1000 [==============================] - 0s - loss: 1.0677     \n",
      "Epoch 9/10\n",
      "1000/1000 [==============================] - 0s - loss: 0.1927     \n",
      "Epoch 10/10\n",
      "1000/1000 [==============================] - 0s - loss: 0.0735     \n"
     ]
    },
    {
     "data": {
      "text/plain": [
       "<keras.callbacks.History at 0x7f44bc758208>"
      ]
     },
     "execution_count": 5,
     "metadata": {},
     "output_type": "execute_result"
    }
   ],
   "source": [
    "plot.clf()\n",
    "model = Sequential()\n",
    "model.add(Dense(1,input_shape= (1,), kernel_initializer='random_uniform' ,use_bias=False))\n",
    "model.add(Dense(2,kernel_initializer='random_uniform', use_bias=True))\n",
    "model.add(Dense(2,kernel_initializer='random_uniform', use_bias=True))\n",
    "model.add(Dense(2,kernel_initializer='random_uniform', use_bias=True))\n",
    "model.add(Dense(2,kernel_initializer='random_uniform', use_bias=True))\n",
    "model.add(Dense(2,kernel_initializer='random_uniform', use_bias=True))\n",
    "model.add(Dense(2,kernel_initializer='random_uniform', use_bias=True))\n",
    "model.add(Dense(1,kernel_initializer='random_uniform', use_bias=True))\n",
    "model.compile(optimizer=optimizers.adagrad(), loss=losses.mean_squared_error)\n",
    "model.fit(x1,y1)\n",
    "\n",
    "# plot_model(model)"
   ]
  },
  {
   "cell_type": "code",
   "execution_count": 6,
   "metadata": {},
   "outputs": [
    {
     "data": {
      "image/png": "[encoded data removed]",
      "text/plain": [
       "<IPython.core.display.Image object>"
      ]
     },
     "execution_count": 6,
     "metadata": {},
     "output_type": "execute_result"
    }
   ],
   "source": [
    "file1 = 'model1.png'\n",
    "plot_model(model, to_file=file1)\n",
    "Image(file1)"
   ]
  },
  {
   "cell_type": "code",
   "execution_count": 7,
   "metadata": {},
   "outputs": [
    {
     "name": "stdout",
     "output_type": "stream",
     "text": [
      "10/10 [==============================] - 0s\n",
      "0.0457661449909\n"
     ]
    }
   ],
   "source": [
    "score = model.evaluate(x2,y2)\n",
    "print(score)"
   ]
  },
  {
   "cell_type": "markdown",
   "metadata": {},
   "source": [
    "Let's try another model"
   ]
  },
  {
   "cell_type": "code",
   "execution_count": 8,
   "metadata": {},
   "outputs": [
    {
     "name": "stdout",
     "output_type": "stream",
     "text": [
      "Epoch 1/10\n",
      "1000/1000 [==============================] - 0s - loss: 132.9686     \n",
      "Epoch 2/10\n",
      "1000/1000 [==============================] - 0s - loss: 129.7183     \n",
      "Epoch 3/10\n",
      "1000/1000 [==============================] - 0s - loss: 126.4792     \n",
      "Epoch 4/10\n",
      "1000/1000 [==============================] - 0s - loss: 123.3440     \n",
      "Epoch 5/10\n",
      "1000/1000 [==============================] - 0s - loss: 120.2648     \n",
      "Epoch 6/10\n",
      "1000/1000 [==============================] - 0s - loss: 117.1829     \n",
      "Epoch 7/10\n",
      "1000/1000 [==============================] - 0s - loss: 114.1943     \n",
      "Epoch 8/10\n",
      "1000/1000 [==============================] - 0s - loss: 111.2364     \n",
      "Epoch 9/10\n",
      "1000/1000 [==============================] - 0s - loss: 108.3667     \n",
      "Epoch 10/10\n",
      "1000/1000 [==============================] - 0s - loss: 105.5587     \n",
      "10/10 [==============================] - 0s\n",
      "0.0457661449909\n"
     ]
    }
   ],
   "source": [
    "model2 = Sequential()\n",
    "model2.add(Dense(1, input_shape=(1,), kernel_initializer='random_uniform', use_bias=True))\n",
    "model2.add(Dense(1, input_shape=(2,), kernel_initializer='random_uniform', use_bias=True))\n",
    "model2.compile(optimizer=optimizers.adagrad(), loss=losses.mean_squared_error)\n",
    "model2.fit(x1,y1)\n",
    "score2 = model.evaluate(x2,y2)\n",
    "print(score2)"
   ]
  },
  {
   "cell_type": "code",
   "execution_count": 9,
   "metadata": {},
   "outputs": [
    {
     "data": {
      "image/png": "[encoded data removed]",
      "text/plain": [
       "<IPython.core.display.Image object>"
      ]
     },
     "execution_count": 9,
     "metadata": {},
     "output_type": "execute_result"
    }
   ],
   "source": [
    "file2 = 'model2.png'\n",
    "plot_model(model2, to_file=file2)\n",
    "Image(file2)"
   ]
  },
  {
   "cell_type": "markdown",
   "metadata": {},
   "source": [
    "Let's see how these models handle a cubic function"
   ]
  },
  {
   "cell_type": "code",
   "execution_count": 10,
   "metadata": {},
   "outputs": [
    {
     "data": {
      "image/png": "[encoded data removed]",
      "text/plain": [
       "<matplotlib.figure.Figure at 0x7f44bb4bbb38>"
      ]
     },
     "metadata": {},
     "output_type": "display_data"
    }
   ],
   "source": [
    "f2 = lambda x: x**3\n",
    "[[xTrain, yTrain], [xTest, yTest]] = generateSets(f2)\n",
    "plot.clf()\n",
    "plot.scatter(xTest,yTest)\n",
    "plot.show()"
   ]
  },
  {
   "cell_type": "code",
   "execution_count": 11,
   "metadata": {},
   "outputs": [
    {
     "name": "stdout",
     "output_type": "stream",
     "text": [
      "Epoch 1/10\n",
      "1000/1000 [==============================] - 0s - loss: 126327.7851     \n",
      "Epoch 2/10\n",
      "1000/1000 [==============================] - 0s - loss: 105461.2114     \n",
      "Epoch 3/10\n",
      "1000/1000 [==============================] - 0s - loss: 81841.2893     \n",
      "Epoch 4/10\n",
      "1000/1000 [==============================] - 0s - loss: 59361.8221     \n",
      "Epoch 5/10\n",
      "1000/1000 [==============================] - 0s - loss: 41206.5443     \n",
      "Epoch 6/10\n",
      "1000/1000 [==============================] - 0s - loss: 30231.5508     \n",
      "Epoch 7/10\n",
      "1000/1000 [==============================] - 0s - loss: 25216.1675     \n",
      "Epoch 8/10\n",
      "1000/1000 [==============================] - 0s - loss: 23640.1070     \n",
      "Epoch 9/10\n",
      "1000/1000 [==============================] - 0s - loss: 23169.7397     \n",
      "Epoch 10/10\n",
      "1000/1000 [==============================] - 0s - loss: 23059.4038     - ETA: 0s - loss: 22938.\n"
     ]
    },
    {
     "data": {
      "text/plain": [
       "<keras.callbacks.History at 0x7f44bb0f0978>"
      ]
     },
     "execution_count": 11,
     "metadata": {},
     "output_type": "execute_result"
    }
   ],
   "source": [
    "model.reset_states()\n",
    "model.fit(xTrain, yTrain)"
   ]
  },
  {
   "cell_type": "code",
   "execution_count": 12,
   "metadata": {
    "scrolled": true
   },
   "outputs": [
    {
     "name": "stdout",
     "output_type": "stream",
     "text": [
      "10/10 [==============================] - 0s\n",
      "11686.4013672\n"
     ]
    }
   ],
   "source": [
    "model1ScoreCubic = model.evaluate(xTest, yTest)\n",
    "print(model1ScoreCubic)"
   ]
  },
  {
   "cell_type": "code",
   "execution_count": 13,
   "metadata": {},
   "outputs": [
    {
     "name": "stdout",
     "output_type": "stream",
     "text": [
      "Epoch 1/10\n",
      "1000/1000 [==============================] - 0s - loss: 142519.9473     \n",
      "Epoch 2/10\n",
      "1000/1000 [==============================] - 0s - loss: 142225.8466     \n",
      "Epoch 3/10\n",
      "1000/1000 [==============================] - 0s - loss: 142007.8030     \n",
      "Epoch 4/10\n",
      "1000/1000 [==============================] - 0s - loss: 141815.7600     \n",
      "Epoch 5/10\n",
      "1000/1000 [==============================] - 0s - loss: 141637.9400     \n",
      "Epoch 6/10\n",
      "1000/1000 [==============================] - 0s - loss: 141477.2027     \n",
      "Epoch 7/10\n",
      "1000/1000 [==============================] - 0s - loss: 141320.5870     \n",
      "Epoch 8/10\n",
      "1000/1000 [==============================] - 0s - loss: 141166.7869     \n",
      "Epoch 9/10\n",
      "1000/1000 [==============================] - 0s - loss: 141024.4314     \n",
      "Epoch 10/10\n",
      "1000/1000 [==============================] - 0s - loss: 140885.7369     \n"
     ]
    },
    {
     "data": {
      "text/plain": [
       "<keras.callbacks.History at 0x7f44bb0f61d0>"
      ]
     },
     "execution_count": 13,
     "metadata": {},
     "output_type": "execute_result"
    }
   ],
   "source": [
    "model2.reset_states()\n",
    "model2.fit(xTrain, yTrain)"
   ]
  },
  {
   "cell_type": "code",
   "execution_count": 14,
   "metadata": {},
   "outputs": [
    {
     "name": "stdout",
     "output_type": "stream",
     "text": [
      "10/10 [==============================] - 0s\n",
      "11686.4013672\n"
     ]
    }
   ],
   "source": [
    "model2ScoreCubic = model.evaluate(xTest, yTest)\n",
    "print(model2ScoreCubic)"
   ]
  },
  {
   "cell_type": "markdown",
   "metadata": {},
   "source": [
    "# The story so far\n",
    "\n",
    "Model1 is complex but has a great accuracy. Model2 is simpler with worse accuracy. However, the dilemma is this:\n",
    "neither are the model that is described in the paper.\n",
    "Let's proceed by using the specifically defined model from the paper, specifically in Theorem 4.2:"
   ]
  },
  {
   "cell_type": "markdown",
   "metadata": {},
   "source": [
    "Fix target error epsilon > 0 and degree d >= 1. Suppose the weights alpha are initialized to zero and w_i's are random C(1/(sqrt(n))^n. Assume the number of hidden units is m = Omega(n^6d / epsiolon^3) and the learning rate is lambda <= 1/(4m). Then, given a degree-d polynomial f(x) of unit norm, the gradient descent will converge to a net, which approximates f up to error epsilon. The number of steps required is Oh(n^2d / lambda epsilon^2 m), and the number of samples required is M = m^Oh(1)"
   ]
  }
 ],
 "metadata": {
  "kernelspec": {
   "display_name": "Python 3",
   "language": "python",
   "name": "python3"
  },
  "language_info": {
   "codemirror_mode": {
    "name": "ipython",
    "version": 3
   },
   "file_extension": ".py",
   "mimetype": "text/x-python",
   "name": "python",
   "nbconvert_exporter": "python",
   "pygments_lexer": "ipython3",
   "version": "3.6.0"
  }
 },
 "nbformat": 4,
 "nbformat_minor": 2
}
