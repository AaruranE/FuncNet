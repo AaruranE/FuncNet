{
 "cells": [
  {
   "cell_type": "raw",
   "metadata": {},
   "source": [
    "# What the heck am I doing here: an Overview\n",
    "\n",
    "The first thing a new reader should do is to review the PDF in the attached git repository.\n",
    "\n",
    "There are three interesting components to this paper. I've included a quote below\n",
    "\n",
    "\"First we show that for a randomly\n",
    "initialized neural network with sufficiently many\n",
    "hidden units, the generic gradient descent algo-\n",
    "rithm learns any low degree polynomial, assum-\n",
    "ing we initialize the weights randomly. Secondly,\n",
    "we show that if we use complex-valued weights\n",
    "(the target function can still be real), then un-\n",
    "der suitable conditions, there are no “robust lo-\n",
    "cal minima”: the neural network can always es-\n",
    "cape a local minimum by performing a random\n",
    "perturbation. This property does not hold for\n",
    "real-valued weights. Thirdly, we discuss whether\n",
    "sparse polynomials can be learned with small\n",
    "neural networks, with the size dependent on the\n",
    "sparsity of the target function.\" - Learning Polynomials with Neural Networks\n",
    "\n",
    "The goal of the paper was to present some evidence supporting the effectiveness of neural networks, and I wish to further supplement that evidence by investigating some of their claims in this notebook.\n",
    "\n",
    "## Result 1\n",
    "\n",
    "We wish to investigate if, \"for a randomly initialized neural network with sufficiently many hidden units, the generic gradient descent algorithm learns any low degree polynomial, assuming we initialize the weights randomly.\"\n",
    "\n",
    "The most trivial polynomial is the constant zero. However, trying to verify that a neural network can duplicate this result is like trying to use a flamethrower to light a birthday candle.\n",
    "\n",
    "Recall the universal approximation theorem: \n",
    "https://en.wikipedia.org/wiki/Universal_approximation_theorem\n",
    "\n",
    "If the function we wish to model is constant, I think it follows trivially from this that a neural network is sufficiently powerful. Specifically, setting all the weights and biases to zero, and using any typical, sigmoidal, activation function should do the trick.\n",
    "\n",
    "Let's use a slightly less trivial example.\n",
    "\n",
    "f_1(x) = 2x+1\n",
    "\n"
   ]
  },
  {
   "cell_type": "code",
   "execution_count": 42,
   "metadata": {
    "collapsed": true
   },
   "outputs": [],
   "source": [
    "import numpy as np\n",
    "import matplotlib.pyplot as plot\n",
    "from keras.models import Sequential\n",
    "from keras.layers import Dense\n",
    "from keras.utils import np_utils\n",
    "from keras import optimizers\n",
    "from keras import losses\n",
    "from keras.utils.vis_utils import plot_model"
   ]
  },
  {
   "cell_type": "code",
   "execution_count": 51,
   "metadata": {},
   "outputs": [
    {
     "data": {
      "image/png": "[encoded data removed]",
      "text/plain": [
       "<matplotlib.figure.Figure at 0x7f15193b8e10>"
      ]
     },
     "metadata": {},
     "output_type": "display_data"
    }
   ],
   "source": [
    "f1 = lambda x: 2*x + 1\n",
    "xmin = -10\n",
    "xmax = 10\n",
    "trainSize = 10000\n",
    "testSize = 10\n",
    "\n",
    "def generateSets(f):\n",
    "    xTrain = np.linspace(xmin,xmax,trainSize)\n",
    "    yTrain = f(xTrain)\n",
    "    xTest = np.random.uniform(xmin, xmax, testSize)\n",
    "    yTest = f(xTest)\n",
    "    return [[xTrain, yTrain], [xTest, yTest]]\n",
    "\n",
    "[[x1, y1], [x2, y2]] = generateSets(f1)\n",
    "plot.scatter(x1,y1)\n",
    "plot.scatter(x2,y2)\n",
    "plot.show()"
   ]
  },
  {
   "cell_type": "code",
   "execution_count": 38,
   "metadata": {},
   "outputs": [
    {
     "data": {
      "image/png": "[encoded data removed]",
      "text/plain": [
       "<matplotlib.figure.Figure at 0x7f151919e518>"
      ]
     },
     "metadata": {},
     "output_type": "display_data"
    }
   ],
   "source": [
    "plot.clf()\n",
    "plot.hist(x1)\n",
    "plot.show()"
   ]
  },
  {
   "cell_type": "code",
   "execution_count": 52,
   "metadata": {},
   "outputs": [
    {
     "name": "stdout",
     "output_type": "stream",
     "text": [
      "Epoch 1/10\n",
      "10000/10000 [==============================] - 2s - loss: 134.3600     \n",
      "Epoch 2/10\n",
      "10000/10000 [==============================] - 1s - loss: 134.3600     \n",
      "Epoch 3/10\n",
      "10000/10000 [==============================] - 1s - loss: 134.3600     \n",
      "Epoch 4/10\n",
      "10000/10000 [==============================] - 2s - loss: 134.3600     \n",
      "Epoch 5/10\n",
      "10000/10000 [==============================] - 1s - loss: 134.3600     \n",
      "Epoch 6/10\n",
      "10000/10000 [==============================] - 1s - loss: 134.3600     \n",
      "Epoch 7/10\n",
      "10000/10000 [==============================] - 1s - loss: 134.3600     \n",
      "Epoch 8/10\n",
      "10000/10000 [==============================] - 1s - loss: 134.3600     \n",
      "Epoch 9/10\n",
      "10000/10000 [==============================] - 1s - loss: 134.3600     \n",
      "Epoch 10/10\n",
      "10000/10000 [==============================] - 1s - loss: 134.3600     \n",
      "10/10 [==============================] - 0s\n"
     ]
    }
   ],
   "source": [
    "plot.clf()\n",
    "model = Sequential()\n",
    "model.add(Dense(1,input_shape= (1,), activation='relu'))\n",
    "model.add(Dense(1, activation='relu'))\n",
    "gradientDescent = optimizers.SGD()\n",
    "model.compile(optimizer=gradientDescent, loss=losses.mean_squared_error)\n",
    "model.fit(x1,y1)\n",
    "\n",
    "# plot_model(model)"
   ]
  },
  {
   "cell_type": "code",
   "execution_count": 54,
   "metadata": {},
   "outputs": [
    {
     "name": "stdout",
     "output_type": "stream",
     "text": [
      "10/10 [==============================] - 0s\n",
      "148.745651245\n"
     ]
    }
   ],
   "source": [
    "score = model.evaluate(x2,y2)\n",
    "print(score)"
   ]
  }
 ],
 "metadata": {
  "kernelspec": {
   "display_name": "Python 3",
   "language": "python",
   "name": "python3"
  },
  "language_info": {
   "codemirror_mode": {
    "name": "ipython",
    "version": 3
   },
   "file_extension": ".py",
   "mimetype": "text/x-python",
   "name": "python",
   "nbconvert_exporter": "python",
   "pygments_lexer": "ipython3",
   "version": "3.6.0"
  }
 },
 "nbformat": 4,
 "nbformat_minor": 2
}
